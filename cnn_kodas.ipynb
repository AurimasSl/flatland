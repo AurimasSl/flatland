{
  "nbformat": 4,
  "nbformat_minor": 0,
  "metadata": {
    "colab": {
      "provenance": [],
      "collapsed_sections": [
        "RvyZ6anO4JAW",
        "vGAamj1t4SB9",
        "jtW-EMB26P09",
        "6ILkcT2j-QZV",
        "_A_D0_PyAFQs",
        "xD1qbIjvBHUv",
        "lqFxw6INB1ds"
      ],
      "gpuType": "T4"
    },
    "kernelspec": {
      "name": "python3",
      "display_name": "Python 3"
    },
    "language_info": {
      "name": "python"
    },
    "accelerator": "GPU"
  },
  "cells": [
    {
      "cell_type": "markdown",
      "source": [
        "**CNN modelis.** Naudojama duomenų augmentacija, Sobel filtras, 3 fully-connected sluoksniai..."
      ],
      "metadata": {
        "id": "hW9hytIp4rAA"
      }
    },
    {
      "cell_type": "markdown",
      "source": [
        "# Naudojamos bibliotekos #"
      ],
      "metadata": {
        "id": "RvyZ6anO4JAW"
      }
    },
    {
      "cell_type": "code",
      "execution_count": 113,
      "metadata": {
        "id": "HrOrhlHSsMFz"
      },
      "outputs": [],
      "source": [
        "import torch\n",
        "import torch.nn as nn\n",
        "import torch.nn.functional as F\n",
        "import torch.optim as optim\n",
        "from torch.utils.data import DataLoader, TensorDataset, random_split, ConcatDataset\n",
        "\n",
        "import numpy as np\n",
        "import matplotlib.pyplot as plt\n",
        "\n",
        "from sklearn.model_selection import train_test_split\n",
        "from scipy.ndimage import sobel\n",
        "import pickle, gzip\n",
        "from google.colab import files"
      ]
    },
    {
      "cell_type": "markdown",
      "source": [
        "# Sutvarkome failus ir duomenis"
      ],
      "metadata": {
        "id": "vGAamj1t4SB9"
      }
    },
    {
      "cell_type": "code",
      "source": [
        "uploaded = files.upload() # Failų įkėlimas. flatland_train, flatland_test)"
      ],
      "metadata": {
        "colab": {
          "base_uri": "https://localhost:8080/",
          "height": 129
        },
        "id": "WCQZFm3OskiX",
        "outputId": "56ca021a-7d3c-491c-ed12-274b0c9c2ce8"
      },
      "execution_count": 114,
      "outputs": [
        {
          "output_type": "display_data",
          "data": {
            "text/plain": [
              "<IPython.core.display.HTML object>"
            ],
            "text/html": [
              "\n",
              "     <input type=\"file\" id=\"files-c380e981-17ab-48a6-aec3-496bcb29ab77\" name=\"files[]\" multiple disabled\n",
              "        style=\"border:none\" />\n",
              "     <output id=\"result-c380e981-17ab-48a6-aec3-496bcb29ab77\">\n",
              "      Upload widget is only available when the cell has been executed in the\n",
              "      current browser session. Please rerun this cell to enable.\n",
              "      </output>\n",
              "      <script>// Copyright 2017 Google LLC\n",
              "//\n",
              "// Licensed under the Apache License, Version 2.0 (the \"License\");\n",
              "// you may not use this file except in compliance with the License.\n",
              "// You may obtain a copy of the License at\n",
              "//\n",
              "//      http://www.apache.org/licenses/LICENSE-2.0\n",
              "//\n",
              "// Unless required by applicable law or agreed to in writing, software\n",
              "// distributed under the License is distributed on an \"AS IS\" BASIS,\n",
              "// WITHOUT WARRANTIES OR CONDITIONS OF ANY KIND, either express or implied.\n",
              "// See the License for the specific language governing permissions and\n",
              "// limitations under the License.\n",
              "\n",
              "/**\n",
              " * @fileoverview Helpers for google.colab Python module.\n",
              " */\n",
              "(function(scope) {\n",
              "function span(text, styleAttributes = {}) {\n",
              "  const element = document.createElement('span');\n",
              "  element.textContent = text;\n",
              "  for (const key of Object.keys(styleAttributes)) {\n",
              "    element.style[key] = styleAttributes[key];\n",
              "  }\n",
              "  return element;\n",
              "}\n",
              "\n",
              "// Max number of bytes which will be uploaded at a time.\n",
              "const MAX_PAYLOAD_SIZE = 100 * 1024;\n",
              "\n",
              "function _uploadFiles(inputId, outputId) {\n",
              "  const steps = uploadFilesStep(inputId, outputId);\n",
              "  const outputElement = document.getElementById(outputId);\n",
              "  // Cache steps on the outputElement to make it available for the next call\n",
              "  // to uploadFilesContinue from Python.\n",
              "  outputElement.steps = steps;\n",
              "\n",
              "  return _uploadFilesContinue(outputId);\n",
              "}\n",
              "\n",
              "// This is roughly an async generator (not supported in the browser yet),\n",
              "// where there are multiple asynchronous steps and the Python side is going\n",
              "// to poll for completion of each step.\n",
              "// This uses a Promise to block the python side on completion of each step,\n",
              "// then passes the result of the previous step as the input to the next step.\n",
              "function _uploadFilesContinue(outputId) {\n",
              "  const outputElement = document.getElementById(outputId);\n",
              "  const steps = outputElement.steps;\n",
              "\n",
              "  const next = steps.next(outputElement.lastPromiseValue);\n",
              "  return Promise.resolve(next.value.promise).then((value) => {\n",
              "    // Cache the last promise value to make it available to the next\n",
              "    // step of the generator.\n",
              "    outputElement.lastPromiseValue = value;\n",
              "    return next.value.response;\n",
              "  });\n",
              "}\n",
              "\n",
              "/**\n",
              " * Generator function which is called between each async step of the upload\n",
              " * process.\n",
              " * @param {string} inputId Element ID of the input file picker element.\n",
              " * @param {string} outputId Element ID of the output display.\n",
              " * @return {!Iterable<!Object>} Iterable of next steps.\n",
              " */\n",
              "function* uploadFilesStep(inputId, outputId) {\n",
              "  const inputElement = document.getElementById(inputId);\n",
              "  inputElement.disabled = false;\n",
              "\n",
              "  const outputElement = document.getElementById(outputId);\n",
              "  outputElement.innerHTML = '';\n",
              "\n",
              "  const pickedPromise = new Promise((resolve) => {\n",
              "    inputElement.addEventListener('change', (e) => {\n",
              "      resolve(e.target.files);\n",
              "    });\n",
              "  });\n",
              "\n",
              "  const cancel = document.createElement('button');\n",
              "  inputElement.parentElement.appendChild(cancel);\n",
              "  cancel.textContent = 'Cancel upload';\n",
              "  const cancelPromise = new Promise((resolve) => {\n",
              "    cancel.onclick = () => {\n",
              "      resolve(null);\n",
              "    };\n",
              "  });\n",
              "\n",
              "  // Wait for the user to pick the files.\n",
              "  const files = yield {\n",
              "    promise: Promise.race([pickedPromise, cancelPromise]),\n",
              "    response: {\n",
              "      action: 'starting',\n",
              "    }\n",
              "  };\n",
              "\n",
              "  cancel.remove();\n",
              "\n",
              "  // Disable the input element since further picks are not allowed.\n",
              "  inputElement.disabled = true;\n",
              "\n",
              "  if (!files) {\n",
              "    return {\n",
              "      response: {\n",
              "        action: 'complete',\n",
              "      }\n",
              "    };\n",
              "  }\n",
              "\n",
              "  for (const file of files) {\n",
              "    const li = document.createElement('li');\n",
              "    li.append(span(file.name, {fontWeight: 'bold'}));\n",
              "    li.append(span(\n",
              "        `(${file.type || 'n/a'}) - ${file.size} bytes, ` +\n",
              "        `last modified: ${\n",
              "            file.lastModifiedDate ? file.lastModifiedDate.toLocaleDateString() :\n",
              "                                    'n/a'} - `));\n",
              "    const percent = span('0% done');\n",
              "    li.appendChild(percent);\n",
              "\n",
              "    outputElement.appendChild(li);\n",
              "\n",
              "    const fileDataPromise = new Promise((resolve) => {\n",
              "      const reader = new FileReader();\n",
              "      reader.onload = (e) => {\n",
              "        resolve(e.target.result);\n",
              "      };\n",
              "      reader.readAsArrayBuffer(file);\n",
              "    });\n",
              "    // Wait for the data to be ready.\n",
              "    let fileData = yield {\n",
              "      promise: fileDataPromise,\n",
              "      response: {\n",
              "        action: 'continue',\n",
              "      }\n",
              "    };\n",
              "\n",
              "    // Use a chunked sending to avoid message size limits. See b/62115660.\n",
              "    let position = 0;\n",
              "    do {\n",
              "      const length = Math.min(fileData.byteLength - position, MAX_PAYLOAD_SIZE);\n",
              "      const chunk = new Uint8Array(fileData, position, length);\n",
              "      position += length;\n",
              "\n",
              "      const base64 = btoa(String.fromCharCode.apply(null, chunk));\n",
              "      yield {\n",
              "        response: {\n",
              "          action: 'append',\n",
              "          file: file.name,\n",
              "          data: base64,\n",
              "        },\n",
              "      };\n",
              "\n",
              "      let percentDone = fileData.byteLength === 0 ?\n",
              "          100 :\n",
              "          Math.round((position / fileData.byteLength) * 100);\n",
              "      percent.textContent = `${percentDone}% done`;\n",
              "\n",
              "    } while (position < fileData.byteLength);\n",
              "  }\n",
              "\n",
              "  // All done.\n",
              "  yield {\n",
              "    response: {\n",
              "      action: 'complete',\n",
              "    }\n",
              "  };\n",
              "}\n",
              "\n",
              "scope.google = scope.google || {};\n",
              "scope.google.colab = scope.google.colab || {};\n",
              "scope.google.colab._files = {\n",
              "  _uploadFiles,\n",
              "  _uploadFilesContinue,\n",
              "};\n",
              "})(self);\n",
              "</script> "
            ]
          },
          "metadata": {}
        },
        {
          "output_type": "stream",
          "name": "stdout",
          "text": [
            "Saving flatland_test.data to flatland_test (2).data\n",
            "Saving flatland_train.data to flatland_train (2).data\n"
          ]
        }
      ]
    },
    {
      "cell_type": "code",
      "source": [
        "X, y = pickle.load(gzip.open(\"flatland_train.data\", 'rb'))\n",
        "X_eval, y_eval = pickle.load(gzip.open(\"flatland_test.data\", 'rb'))\n",
        "y[y!=0] -= 2 # laikysime, kad apskritimas=0, trikampis=1, kvadratas=2 ir t.t.\n",
        "X = torch.tensor(X, dtype=torch.float32) / 255 # normalizuojame\n",
        "X_eval = torch.tensor(X_eval, dtype=torch.float32) / 255 # normalizuojame\n",
        "y = torch.tensor(y, dtype=torch.long)"
      ],
      "metadata": {
        "id": "sIiOM5rqs_PH"
      },
      "execution_count": 115,
      "outputs": []
    },
    {
      "cell_type": "markdown",
      "source": [
        "# Naudosime GPU dėl greičio#"
      ],
      "metadata": {
        "id": "jtW-EMB26P09"
      }
    },
    {
      "cell_type": "code",
      "source": [
        "device = \"cuda\" if torch.cuda.is_available() else \"cpu\""
      ],
      "metadata": {
        "id": "KNOVg77Ss3so"
      },
      "execution_count": 116,
      "outputs": []
    },
    {
      "cell_type": "markdown",
      "source": [
        "#Sobel filtras, kad išryškėtų briaunos ir kampai#"
      ],
      "metadata": {
        "id": "6ILkcT2j-QZV"
      }
    },
    {
      "cell_type": "code",
      "source": [
        "def apply_sobel(X):\n",
        "    X_sobel = np.zeros_like(X)\n",
        "    for i in range(X.shape[0]):\n",
        "        img = X[i].numpy()\n",
        "        sobel_x = sobel(img, axis=1)\n",
        "        sobel_y = sobel(img, axis=0)\n",
        "        sobel_img = np.hypot(sobel_x, sobel_y)\n",
        "        X_sobel[i] = torch.tensor(sobel_img)\n",
        "    return torch.tensor(X_sobel, dtype=torch.float32)\n",
        "\n",
        "X = apply_sobel(X)\n",
        "#Pritaikome filtrą ir eval duomenims\n",
        "X_eval = apply_sobel(X_eval)"
      ],
      "metadata": {
        "id": "OJeIoHEkvXfB"
      },
      "execution_count": 117,
      "outputs": []
    },
    {
      "cell_type": "code",
      "source": [
        "image = X[10]\n",
        "image_np = image.cpu().numpy()\n",
        "\n",
        "plt.imshow(image_np, cmap='gray')\n",
        "plt.show()"
      ],
      "metadata": {
        "colab": {
          "base_uri": "https://localhost:8080/",
          "height": 452
        },
        "id": "nHcy4ysBZUxD",
        "outputId": "c534f17c-6e21-465c-ed32-8be4f8aedbd9"
      },
      "execution_count": 122,
      "outputs": [
        {
          "output_type": "display_data",
          "data": {
            "text/plain": [
              "<Figure size 640x480 with 1 Axes>"
            ],
            "image/png": "[encoded data removed]"
          },
          "metadata": {}
        }
      ]
    },
    {
      "cell_type": "markdown",
      "source": [
        "# Augmentacija. Papildome duomenis, kad būtų po lygiai vienodų figūrų (išvengsime bias'o), pridedame apverstus image'us #"
      ],
      "metadata": {
        "id": "_A_D0_PyAFQs"
      }
    },
    {
      "cell_type": "code",
      "source": [
        "#figūrų pasiskirtymas\n",
        "unique_labels, counts = np.unique(y.cpu().numpy(), return_counts=True)\n",
        "\n",
        "plt.bar(unique_labels, counts)\n",
        "plt.xlabel(\"Figūros\")\n",
        "plt.ylabel(\"Kiekis\")\n",
        "plt.title(\"Figūrų pasiskristymas\")\n",
        "plt.show()"
      ],
      "metadata": {
        "colab": {
          "base_uri": "https://localhost:8080/",
          "height": 492
        },
        "id": "BWCMYErWpit_",
        "outputId": "124b34c7-04f1-40ec-a836-95e919a96b1e"
      },
      "execution_count": 123,
      "outputs": [
        {
          "output_type": "display_data",
          "data": {
            "text/plain": [
              "<Figure size 640x480 with 1 Axes>"
            ],
            "image/png": "[encoded data removed]"
          },
          "metadata": {}
        }
      ]
    },
    {
      "cell_type": "code",
      "source": [
        "# Papildome duomenis, kad figūrų skaičiai sutaptų, nebūtų bias'o.\n",
        "unique_labels, counts = torch.unique(y, return_counts=True)\n",
        "\n",
        "max_freq = counts.max().item()\n",
        "for label, freq in zip(unique_labels, counts):\n",
        "    num_to_augment = max_freq - freq.item()\n",
        "    label_indices = torch.where(y == label)[0]\n",
        "    label_images = X[label_indices]\n",
        "    augmented_images = label_images.repeat_interleave(num_to_augment // freq.item() + 1, dim=0)\n",
        "    augmented_images = augmented_images[:num_to_augment]\n",
        "    X = torch.cat([X, augmented_images], dim=0)\n",
        "    y = torch.cat([y, torch.tensor([label] * num_to_augment)], dim=0)\n",
        "    y = torch.tensor(y, dtype=torch.long)"
      ],
      "metadata": {
        "colab": {
          "base_uri": "https://localhost:8080/"
        },
        "id": "QaY6XxiHqP2c",
        "outputId": "4fff06cf-ef99-42ad-b357-92b809efa640"
      },
      "execution_count": 124,
      "outputs": [
        {
          "output_type": "stream",
          "name": "stderr",
          "text": [
            "<ipython-input-124-54e088bc74ae>:13: UserWarning: To copy construct from a tensor, it is recommended to use sourceTensor.clone().detach() or sourceTensor.clone().detach().requires_grad_(True), rather than torch.tensor(sourceTensor).\n",
            "  y = torch.tensor(y, dtype=torch.long)\n"
          ]
        }
      ]
    },
    {
      "cell_type": "code",
      "source": [
        "X = torch.cat((X, torch.flip(X, dims=[1]), torch.flip(torch.flip(X, dims=[1]),\n",
        "        dims=[2])), dim=0) #augmentuojame diagonal ir horizontal flip'us\n",
        "\n",
        "y = torch.cat((y, y, y), dim=0) #papildome label'ius"
      ],
      "metadata": {
        "id": "RRuC2cFWwND1"
      },
      "execution_count": 125,
      "outputs": []
    },
    {
      "cell_type": "markdown",
      "source": [
        "#train ir test split'as"
      ],
      "metadata": {
        "id": "xD1qbIjvBHUv"
      }
    },
    {
      "cell_type": "code",
      "source": [
        "X_train, X_test, y_train, y_test = train_test_split(X, y, test_size=0.2, random_state=99)\n",
        "\n",
        "#prijungiame grayscale chanel\n",
        "X_train = X_train.unsqueeze(1)\n",
        "X_test = X_test.unsqueeze(1)\n",
        "\n",
        "train_dataset_ = TensorDataset(X_train, y_train)\n",
        "test_dataset = TensorDataset(X_test, y_test)\n",
        "train_loader = DataLoader(train_dataset_, batch_size=128, shuffle=True) #batchsize=128\n",
        "test_loader = DataLoader(test_dataset, batch_size=128, shuffle=False)"
      ],
      "metadata": {
        "id": "0zMXeBYtwXoq"
      },
      "execution_count": 126,
      "outputs": []
    },
    {
      "cell_type": "markdown",
      "source": [
        "# CNN architektūra. Naudojame 3 fully connected sluoksnius, max pooling, drop'outas (be drop'outo ir su 2-3 epochomis modelis praktiškai turi tą patį tikslumą ~0.5% skirtumas)"
      ],
      "metadata": {
        "id": "lqFxw6INB1ds"
      }
    },
    {
      "cell_type": "code",
      "source": [
        "class CNNModel(nn.Module):\n",
        "    def __init__(self):\n",
        "        super(CNNModel, self).__init__()\n",
        "        self.conv1 = nn.Conv2d(1, 32, kernel_size=3, padding=1)\n",
        "        self.conv2 = nn.Conv2d(32, 64, kernel_size=3, padding=1)\n",
        "        self.conv3 = nn.Conv2d(64, 128, kernel_size=3, padding=1)\n",
        "\n",
        "        self.bn1 = nn.BatchNorm2d(32)\n",
        "        self.bn2 = nn.BatchNorm2d(64)\n",
        "        self.bn3 = nn.BatchNorm2d(128)\n",
        "\n",
        "        self.pool = nn.MaxPool2d(2, 2)\n",
        "\n",
        "        self.fc1 = nn.Linear(128*6*6, 256)\n",
        "        self.fc2 = nn.Linear(256, 128)\n",
        "        self.fc3 = nn.Linear(128, 5)\n",
        "\n",
        "        self.dropout = nn.Dropout(p=0.65)\n",
        "\n",
        "    def forward(self, x):\n",
        "        x = self.pool(F.relu(self.bn1(self.conv1(x))))\n",
        "        x = self.pool(F.relu(self.bn2(self.conv2(x))))\n",
        "        x = self.pool(F.relu(self.bn3(self.conv3(x))))\n",
        "        x = x.view(-1, 128*6*6)\n",
        "        x = F.relu(self.fc1(x))\n",
        "        x = self.dropout(x)\n",
        "        x = F.relu(self.fc2(x))\n",
        "        x = self.dropout(x)\n",
        "        x = self.fc3(x)\n",
        "        return x"
      ],
      "metadata": {
        "id": "HdhBP9jSwcFd"
      },
      "execution_count": 128,
      "outputs": []
    },
    {
      "cell_type": "markdown",
      "source": [
        "# Inicijuojame modelį su criterion=CrossEntropy, optimizer=Adam."
      ],
      "metadata": {
        "id": "fdCclBkUCE3C"
      }
    },
    {
      "cell_type": "code",
      "source": [
        "model = CNNModel().to(device)\n",
        "criterion = nn.CrossEntropyLoss()\n",
        "optimizer = optim.Adam(model.parameters(), lr=0.001)"
      ],
      "metadata": {
        "id": "OTTwPIP6wfa9"
      },
      "execution_count": 129,
      "outputs": []
    },
    {
      "cell_type": "markdown",
      "source": [
        "# Treniravimas ir testavimas #"
      ],
      "metadata": {
        "id": "sJawIcZqCZud"
      }
    },
    {
      "cell_type": "code",
      "source": [
        "epochs = 12 #TRENIRUOTI TIK SU GPU, NES CPU 1 EPOCHA UŽTRUNKA 5MIN\n",
        "\n",
        "for epoch in range(epochs):\n",
        "    model.train()\n",
        "    running_loss = 0.0\n",
        "    correct_train = 0\n",
        "    total_train = 0\n",
        "    for i, data in enumerate(train_loader, 0):\n",
        "        inputs, labels = data\n",
        "        inputs = inputs.to(device)\n",
        "        labels = labels.to(device)\n",
        "        optimizer.zero_grad()\n",
        "        outputs = model(inputs)\n",
        "        loss = criterion(outputs, labels)\n",
        "        loss.backward()\n",
        "        optimizer.step()\n",
        "        running_loss += loss.item()\n",
        "        _, predicted_train = torch.max(outputs.data, 1)\n",
        "        total_train += labels.size(0)\n",
        "        correct_train += (predicted_train == labels).sum().item()\n",
        "\n",
        "    epoch_train_loss = running_loss / len(train_loader)\n",
        "    epoch_train_acc = correct_train / total_train * 100\n",
        "\n",
        "    #Modelio įvertinimas su test data\n",
        "    model.eval()\n",
        "    val_loss = 0.0\n",
        "    correct_val = 0\n",
        "    total_val = 0\n",
        "\n",
        "    with torch.no_grad(): #nereikia skaičiuoti gradientų\n",
        "        for data in test_loader:\n",
        "            inputs, labels = data\n",
        "            inputs = inputs.to(device)\n",
        "            labels = labels.to(device)\n",
        "            outputs = model(inputs)\n",
        "            loss = criterion(outputs, labels)\n",
        "            val_loss += loss.item()\n",
        "\n",
        "            _, predicted_val = torch.max(outputs.data, 1)\n",
        "            total_val += labels.size(0)\n",
        "            correct_val += (predicted_val == labels).sum().item()\n",
        "\n",
        "    epoch_val_acc = 100 * correct_val / total_val\n",
        "\n",
        "    print(f\"Epoch: {epoch + 1}; Train Loss: {epoch_train_loss:.3f}\")\n",
        "    print(f\"Train Acc: {epoch_train_acc:.2f}%\")\n",
        "print(f\"Final Validation Acc: {epoch_val_acc:.2f}%\")"
      ],
      "metadata": {
        "id": "aYRcIQFsyJoU",
        "colab": {
          "base_uri": "https://localhost:8080/"
        },
        "outputId": "7d05ea54-3d80-46c7-b48d-3e67c1f44dba"
      },
      "execution_count": 130,
      "outputs": [
        {
          "output_type": "stream",
          "name": "stdout",
          "text": [
            "Epoch: 1; Train Loss: 1.199\n",
            "Train Acc: 44.89%\n",
            "Epoch: 2; Train Loss: 0.640\n",
            "Train Acc: 77.59%\n",
            "Epoch: 3; Train Loss: 0.454\n",
            "Train Acc: 87.03%\n",
            "Epoch: 4; Train Loss: 0.376\n",
            "Train Acc: 89.51%\n",
            "Epoch: 5; Train Loss: 0.346\n",
            "Train Acc: 90.91%\n",
            "Epoch: 6; Train Loss: 0.310\n",
            "Train Acc: 92.38%\n",
            "Epoch: 7; Train Loss: 0.291\n",
            "Train Acc: 92.98%\n",
            "Epoch: 8; Train Loss: 0.292\n",
            "Train Acc: 93.39%\n",
            "Epoch: 9; Train Loss: 0.276\n",
            "Train Acc: 93.81%\n",
            "Epoch: 10; Train Loss: 0.258\n",
            "Train Acc: 94.34%\n",
            "Epoch: 11; Train Loss: 0.253\n",
            "Train Acc: 94.51%\n",
            "Epoch: 12; Train Loss: 0.251\n",
            "Train Acc: 94.62%\n",
            "Final Validation Acc: 98.08%\n"
          ]
        }
      ]
    },
    {
      "cell_type": "markdown",
      "source": [
        "Keista, kad train acc. gana žemas, nors test duomenų split'e acc. siekia 98%."
      ],
      "metadata": {
        "id": "uBMgD4o2I4vv"
      }
    },
    {
      "cell_type": "markdown",
      "source": [
        "# Modelio spėjimas ant X_eval duomenų#"
      ],
      "metadata": {
        "id": "1ibL2urAQ7FD"
      }
    },
    {
      "cell_type": "code",
      "source": [
        "eval_loader = torch.utils.data.DataLoader(X_eval.unsqueeze(1), batch_size=128, shuffle=False)"
      ],
      "metadata": {
        "id": "96BQdb3cQ6G2"
      },
      "execution_count": 131,
      "outputs": []
    },
    {
      "cell_type": "code",
      "source": [
        "model.eval()\n",
        "predictions = []\n",
        "\n",
        "with torch.no_grad():\n",
        "    for images in eval_loader:\n",
        "        images = images.to(device)\n",
        "        outputs = model(images)\n",
        "        _, predicted = torch.max(outputs, 1)\n",
        "        predictions.extend(predicted.cpu().numpy())\n",
        "\n",
        "predictions = np.array(predictions)\n",
        "predictions[predictions != 0] += 2"
      ],
      "metadata": {
        "id": "4Qq5RlqFSaHx"
      },
      "execution_count": 132,
      "outputs": []
    },
    {
      "cell_type": "markdown",
      "source": [
        "#MISC#"
      ],
      "metadata": {
        "id": "EKiOwT_t03uF"
      }
    },
    {
      "cell_type": "code",
      "source": [
        "#išsaugome spėjimą\n",
        "with open('predictions.txt', 'w') as f:\n",
        "    for nr in predictions:\n",
        "        f.write(str(nr))\n",
        "files.download('predictions.txt')"
      ],
      "metadata": {
        "id": "NnrvY_PLT8d1",
        "colab": {
          "base_uri": "https://localhost:8080/",
          "height": 37
        },
        "outputId": "d374e511-b928-438d-eb96-4017d73cb8c6"
      },
      "execution_count": 110,
      "outputs": [
        {
          "output_type": "display_data",
          "data": {
            "text/plain": [
              "<IPython.core.display.Javascript object>"
            ],
            "application/javascript": [
              "\n",
              "    async function download(id, filename, size) {\n",
              "      if (!google.colab.kernel.accessAllowed) {\n",
              "        return;\n",
              "      }\n",
              "      const div = document.createElement('div');\n",
              "      const label = document.createElement('label');\n",
              "      label.textContent = `Downloading \"${filename}\": `;\n",
              "      div.appendChild(label);\n",
              "      const progress = document.createElement('progress');\n",
              "      progress.max = size;\n",
              "      div.appendChild(progress);\n",
              "      document.body.appendChild(div);\n",
              "\n",
              "      const buffers = [];\n",
              "      let downloaded = 0;\n",
              "\n",
              "      const channel = await google.colab.kernel.comms.open(id);\n",
              "      // Send a message to notify the kernel that we're ready.\n",
              "      channel.send({})\n",
              "\n",
              "      for await (const message of channel.messages) {\n",
              "        // Send a message to notify the kernel that we're ready.\n",
              "        channel.send({})\n",
              "        if (message.buffers) {\n",
              "          for (const buffer of message.buffers) {\n",
              "            buffers.push(buffer);\n",
              "            downloaded += buffer.byteLength;\n",
              "            progress.value = downloaded;\n",
              "          }\n",
              "        }\n",
              "      }\n",
              "      const blob = new Blob(buffers, {type: 'application/binary'});\n",
              "      const a = document.createElement('a');\n",
              "      a.href = window.URL.createObjectURL(blob);\n",
              "      a.download = filename;\n",
              "      div.appendChild(a);\n",
              "      a.click();\n",
              "      div.remove();\n",
              "    }\n",
              "  "
            ]
          },
          "metadata": {}
        },
        {
          "output_type": "display_data",
          "data": {
            "text/plain": [
              "<IPython.core.display.Javascript object>"
            ],
            "application/javascript": [
              "download(\"download_253d15a8-bfec-45cd-8b0a-7888d31231cc\", \"predictions.txt\", 10000)"
            ]
          },
          "metadata": {}
        }
      ]
    },
    {
      "cell_type": "code",
      "source": [
        "#išsaugome modelį\n",
        "torch.save(model.state_dict(), \"CNNmodel.pth\")\n",
        "files.download('CNNmodel.pth')"
      ],
      "metadata": {
        "colab": {
          "base_uri": "https://localhost:8080/",
          "height": 54
        },
        "id": "EcgNtCTYcZSn",
        "outputId": "9446990a-d9ca-47df-ba8e-99dc0fddd5b2"
      },
      "execution_count": 135,
      "outputs": [
        {
          "output_type": "display_data",
          "data": {
            "text/plain": [
              "<IPython.core.display.Javascript object>"
            ],
            "application/javascript": [
              "\n",
              "    async function download(id, filename, size) {\n",
              "      if (!google.colab.kernel.accessAllowed) {\n",
              "        return;\n",
              "      }\n",
              "      const div = document.createElement('div');\n",
              "      const label = document.createElement('label');\n",
              "      label.textContent = `Downloading \"${filename}\": `;\n",
              "      div.appendChild(label);\n",
              "      const progress = document.createElement('progress');\n",
              "      progress.max = size;\n",
              "      div.appendChild(progress);\n",
              "      document.body.appendChild(div);\n",
              "\n",
              "      const buffers = [];\n",
              "      let downloaded = 0;\n",
              "\n",
              "      const channel = await google.colab.kernel.comms.open(id);\n",
              "      // Send a message to notify the kernel that we're ready.\n",
              "      channel.send({})\n",
              "\n",
              "      for await (const message of channel.messages) {\n",
              "        // Send a message to notify the kernel that we're ready.\n",
              "        channel.send({})\n",
              "        if (message.buffers) {\n",
              "          for (const buffer of message.buffers) {\n",
              "            buffers.push(buffer);\n",
              "            downloaded += buffer.byteLength;\n",
              "            progress.value = downloaded;\n",
              "          }\n",
              "        }\n",
              "      }\n",
              "      const blob = new Blob(buffers, {type: 'application/binary'});\n",
              "      const a = document.createElement('a');\n",
              "      a.href = window.URL.createObjectURL(blob);\n",
              "      a.download = filename;\n",
              "      div.appendChild(a);\n",
              "      a.click();\n",
              "      div.remove();\n",
              "    }\n",
              "  "
            ]
          },
          "metadata": {}
        },
        {
          "output_type": "display_data",
          "data": {
            "text/plain": [
              "<IPython.core.display.Javascript object>"
            ],
            "application/javascript": [
              "download(\"download_7c9b15ff-2ecf-476a-834a-81bae53f58e9\", \"CNNmodel.pth\", 5236644)"
            ]
          },
          "metadata": {}
        }
      ]
    }
  ]
}